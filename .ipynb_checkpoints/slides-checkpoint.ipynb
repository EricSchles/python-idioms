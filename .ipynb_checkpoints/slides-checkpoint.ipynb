{
 "cells": [
  {
   "cell_type": "code",
   "execution_count": 4,
   "metadata": {
    "collapsed": false
   },
   "outputs": [
    {
     "name": "stdout",
     "output_type": "stream",
     "text": [
      "76\n",
      "1\n",
      "[76, 44, 41]\n",
      "[85, 47, 46, 10]\n",
      "[76, 41, 77, 27, 82, 74, 12, 85, 10, 27, 17, 50, 4, 87, 82, 5, 15, 62, 63, 83, 65, 39, 91, 47, 60, 41, 91, 90, 60, 76, 28, 91, 82, 24, 38, 89, 52, 96, 99, 34, 48, 96, 75, 92, 4, 66, 2, 20, 92, 84]\n"
     ]
    }
   ],
   "source": [
    "import random\n",
    "listing = [random.randint(0,100) for _ in range(100)]\n",
    "print(listing[0])\n",
    "print(listing[-1])\n",
    "print(listing[:3])\n",
    "print(listing[5:13:2])\n",
    "print(listing[::2])\n",
    "print(listing[:])"
   ]
  },
  {
   "cell_type": "code",
   "execution_count": 12,
   "metadata": {
    "collapsed": false
   },
   "outputs": [
    {
     "name": "stdout",
     "output_type": "stream",
     "text": [
      "1\n",
      "2\n"
     ]
    },
    {
     "data": {
      "text/plain": [
       "['AsyncIterable',\n",
       " 'AsyncIterator',\n",
       " 'Awaitable',\n",
       " 'ByteString',\n",
       " 'Callable',\n",
       " 'ChainMap',\n",
       " 'Container',\n",
       " 'Coroutine',\n",
       " 'Counter',\n",
       " 'Generator',\n",
       " 'Hashable',\n",
       " 'ItemsView',\n",
       " 'Iterable',\n",
       " 'Iterator',\n",
       " 'KeysView',\n",
       " 'Mapping',\n",
       " 'MappingView',\n",
       " 'MutableMapping',\n",
       " 'MutableSequence',\n",
       " 'MutableSet',\n",
       " 'OrderedDict',\n",
       " 'Sequence',\n",
       " 'Set',\n",
       " 'Sized',\n",
       " 'UserDict',\n",
       " 'UserList',\n",
       " 'UserString',\n",
       " 'ValuesView',\n",
       " '_Link',\n",
       " '_OrderedDictItemsView',\n",
       " '_OrderedDictKeysView',\n",
       " '_OrderedDictValuesView',\n",
       " '__all__',\n",
       " '__builtins__',\n",
       " '__cached__',\n",
       " '__doc__',\n",
       " '__file__',\n",
       " '__loader__',\n",
       " '__name__',\n",
       " '__package__',\n",
       " '__path__',\n",
       " '__spec__',\n",
       " '_chain',\n",
       " '_class_template',\n",
       " '_collections_abc',\n",
       " '_count_elements',\n",
       " '_eq',\n",
       " '_field_template',\n",
       " '_heapq',\n",
       " '_iskeyword',\n",
       " '_itemgetter',\n",
       " '_proxy',\n",
       " '_recursive_repr',\n",
       " '_repeat',\n",
       " '_repr_template',\n",
       " '_starmap',\n",
       " '_sys',\n",
       " 'abc',\n",
       " 'defaultdict',\n",
       " 'deque',\n",
       " 'namedtuple']"
      ]
     },
     "execution_count": 12,
     "metadata": {},
     "output_type": "execute_result"
    }
   ],
   "source": [
    "# enums\n",
    "import collections\n",
    "Obj = collections.namedtuple(\"Obj\", [\"x\",\"y\"])\n",
    "instance = Obj(1,2)\n",
    "print(instance.x)\n",
    "print(instance.y)\n",
    "dir(collections)"
   ]
  },
  {
   "cell_type": "code",
   "execution_count": 8,
   "metadata": {
    "collapsed": false
   },
   "outputs": [
    {
     "data": {
      "text/plain": [
       "['__class__',\n",
       " '__delattr__',\n",
       " '__dict__',\n",
       " '__dir__',\n",
       " '__doc__',\n",
       " '__eq__',\n",
       " '__format__',\n",
       " '__ge__',\n",
       " '__getattribute__',\n",
       " '__gt__',\n",
       " '__hash__',\n",
       " '__init__',\n",
       " '__le__',\n",
       " '__lt__',\n",
       " '__module__',\n",
       " '__ne__',\n",
       " '__new__',\n",
       " '__reduce__',\n",
       " '__reduce_ex__',\n",
       " '__repr__',\n",
       " '__setattr__',\n",
       " '__sizeof__',\n",
       " '__str__',\n",
       " '__subclasshook__',\n",
       " '__weakref__']"
      ]
     },
     "execution_count": 8,
     "metadata": {},
     "output_type": "execute_result"
    }
   ],
   "source": [
    "class Hello:\n",
    "    pass\n",
    "dir(Hello)"
   ]
  },
  {
   "cell_type": "code",
   "execution_count": 10,
   "metadata": {
    "collapsed": false
   },
   "outputs": [],
   "source": [
    "# http://minhhh.github.io/posts/a-guide-to-pythons-magic-methods\n"
   ]
  },
  {
   "cell_type": "code",
   "execution_count": null,
   "metadata": {
    "collapsed": true
   },
   "outputs": [],
   "source": [
    "# bringing it all together\n",
    "import collections\n",
    "\n",
    "Card = collections.namedtuple('Card', ['rank', 'suit'])\n",
    "\n",
    "class FrenchDeck:\n",
    "    \"\"\"\n",
    "    This is a deck of cards class\n",
    "    \n",
    "    A single element of the class:\n",
    "    >>> beer_card = Card('7', 'diamonds')\n",
    "    >>> beer_card\n",
    "    Card(rank='7', suit='diamonds')\n",
    "\n",
    "    Intializing the deck:\n",
    "    >>> deck = FrenchDeck()\n",
    "    >>> len(deck) \n",
    "    52\n",
    "\n",
    "    Getting the first and last element of the deck:\n",
    "    >>> deck[0]  \n",
    "    Card(rank='2', suit='spades')\n",
    "    >>> deck[-1] \n",
    "    Card(rank='A', suit='hearts')\n",
    "    \n",
    "    Getting a random card in the deck:\n",
    "    >>> from random import choice\n",
    "    >>> choice(deck)\n",
    "    Card(rank='3', suit='hearts')\n",
    "    >>> choice(deck)\n",
    "    Card(rank='K', suit='spades')\n",
    "    >>> choice(deck)\n",
    "    Card(rank='2', suit='clubs')\n",
    "\n",
    "    Indexing into the deck:\n",
    "    >>> deck[:3]\n",
    "    [Card(rank='2', suit='spades'), Card(rank='3', suit='spades'), Card(rank='4', suit='spades')]\n",
    "    >>> deck[12::13]\n",
    "    [Card(rank='A', suit='spades'), Card(rank='A', suit='diamonds'), Card(rank='A', suit='clubs'), Card(rank='A', suit='hearts')]\n",
    "\n",
    "    Iterating through the deck of cards\n",
    "    >>> for card in deck: # doctest: +ELLIPSIS\n",
    "    ...   print(card)\n",
    "    Card(rank='2', suit='spades')\n",
    "    Card(rank='3', suit='spades')\n",
    "    Card(rank='4', suit='spades')\n",
    "    ...\n",
    "    \n",
    "    Iterating through the deck of cards in reverse\n",
    "    >>> for card in reversed(deck): # doctest: +ELLIPSIS\n",
    "    ...   print(card)\n",
    "    Card(rank='A', suit='hearts')\n",
    "    Card(rank='K', suit='hearts')\n",
    "    Card(rank='Q', suit='hearts')\n",
    "    ...\n",
    "\n",
    "    Checking if a card is in a deck\n",
    "    >>> Card('Q', 'hearts') in deck\n",
    "    True\n",
    "    >>> Card('7', 'beasts') in deck\n",
    "    False\n",
    "    \"\"\"\n",
    "    ranks = [str(n) for n in range(2, 11)] + list('JQKA')\n",
    "    suits = 'spades diamonds clubs hearts'.split()\n",
    "\n",
    "    def __init__(self):\n",
    "        self._cards = [Card(rank, suit) for suit in self.suits\n",
    "                       for rank in self.ranks]\n",
    "\n",
    "    def __len__(self):\n",
    "        return len(self._cards)\n",
    "\n",
    "    def __getitem__(self, position):\n",
    "        return self._cards[position]\n",
    "\n"
   ]
  },
  {
   "cell_type": "code",
   "execution_count": null,
   "metadata": {
    "collapsed": true
   },
   "outputs": [],
   "source": [
    "# https://www.amazon.com/Fluent-Python-Concise-Effective-Programming/dp/1491946008"
   ]
  }
 ],
 "metadata": {
  "kernelspec": {
   "display_name": "Python 3",
   "language": "python",
   "name": "python3"
  },
  "language_info": {
   "codemirror_mode": {
    "name": "ipython",
    "version": 3
   },
   "file_extension": ".py",
   "mimetype": "text/x-python",
   "name": "python",
   "nbconvert_exporter": "python",
   "pygments_lexer": "ipython3",
   "version": "3.5.0"
  }
 },
 "nbformat": 4,
 "nbformat_minor": 1
}
